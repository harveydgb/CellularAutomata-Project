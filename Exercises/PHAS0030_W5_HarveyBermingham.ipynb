{
 "cells": [
  {
   "cell_type": "markdown",
   "metadata": {},
   "source": [
    "# Investigating Different Forms of the Differential Heat Equation\n",
    "\n",
    "In this notebook we will investigate the two forms of the heat equation. This will be done through the modelling of heat in a bar of length 21m and width 15m. The end of this bar (x=21m) will be kept at a constant 400K, all other boundries of the bar will be kept at 300K.\n",
    "\n",
    "The first method will use a 2D steady state model, this will use the successive over-relaxation (SOR) approach to find the final temperature as a function of the coordinates. This method approches a steady state and does not take into account the path in which this is reached relative to time. The equation that this method solves has an eliptical form and is given by:\n",
    "\n",
    "Equation 1:\n",
    "$$\n",
    "\\frac{\\partial^2\\theta}{\\partial x^2} + \\frac{\\partial^2\\theta}{\\partial y^2} = 0\n",
    "$$\n",
    "\n",
    "Where $\\theta$ is a fucntion of temperature at (x,y). It is possible to apply a centred finite-difference scheme to this equation and after some assertions and re-arranging we have the equation given below that gives SOR approach:\n",
    "\n",
    "Equation 2:\n",
    "$$\n",
    "{ϕ_{i,j}}^{(k+1)} = \\frac{1+\\omega}{4} ({ϕ_{i+1,j}}^{(k)}+{ϕ_{i-1,j}}^{(k)}+{ϕ_{i,j+1}}^{(k)}+{ϕ_{i,j-1}}^{(k)}) -ω{ϕ_{i,j}}^{(k)}\n",
    "$$\n",
    "\n",
    "Where i and j give index of the x and y cooridnates respectively, the k's and k+1's in brackets give the different versions of the temperatures, which are updated with a mix of old and new versions themsleves. This mix is decided by the parameter $\\omega$.\n",
    "\n",
    "The second method reaches the final state as a function of time and at each time the temperatures are given as a function of their coordinates. The equation used in this method has a parabolic form and is given by:\n",
    "\n",
    "Equation 3:\n",
    "$$\n",
    "\\frac{∂θ}{∂t}=\\frac{κ}{Cρ}  \\frac{∂^2 θ}{∂x^2}\n",
    "$$\n",
    "\n",
    "Where C is the specific heat capacity of the material, $\\theta$ is the temperature, κ is the thermal conductivity and ρ is the mass density. Using the finite differences technique for the both of the derivatives and then re-arrange to give the formula:\n",
    "\n",
    "Equation 4:\n",
    "$$\n",
    "θ_{i,n+1} = ζ(θ_{i+1,n}+θ_{i-1,n} )+(1-2ζ)θ_{i,n}\n",
    "$$\n",
    "\n",
    "Where i is the index for the coordinates and n is the index for times, separated by small differences dx and dt. This equation ois for a 1D distrubtution and will have more indexing in the 2D equations. This will be the method used below over an array to find the final state of the temperature distrubution due to Eq. 2."
   ]
  },
  {
   "cell_type": "code",
   "execution_count": 40,
   "metadata": {},
   "outputs": [],
   "source": [
    "# Appropriate imports\n",
    "%matplotlib inline\n",
    "import numpy as np\n",
    "import matplotlib.pyplot as plt"
   ]
  },
  {
   "cell_type": "markdown",
   "metadata": {},
   "source": [
    "### Creating SOR solver function"
   ]
  },
  {
   "cell_type": "code",
   "execution_count": 41,
   "metadata": {},
   "outputs": [],
   "source": [
    "def update_GS_SOR(phi, M, N, omega):\n",
    "    \"\"\"Updating an MxN grid of temperatures using the SOR method.\n",
    "    Inputs:\n",
    "    M, N: dimension of the grid\n",
    "    phi: intial temperatures guess\n",
    "    omega: parameter in SOR method\n",
    "    Returns: updated phi\"\"\"\n",
    "    \n",
    "    #applying SOR method\n",
    "    for i in range(1,N-1):\n",
    "        for j in range(1,M-1):\n",
    "            phi[i,j] = (1+omega)*0.25*(phi[i-1,j] + phi[i+1,j] \n",
    "                              + phi[i,j-1] + phi[i,j+1]) - omega*phi[i,j]\n",
    "    return phi"
   ]
  },
  {
   "cell_type": "markdown",
   "metadata": {},
   "source": [
    "### Setting initial conditions and plotting"
   ]
  },
  {
   "cell_type": "code",
   "execution_count": 42,
   "metadata": {},
   "outputs": [
    {
     "data": {
      "text/plain": [
       "Text(0.5, 1.0, 'Fig 1: Initial Temperature Guess')"
      ]
     },
     "execution_count": 42,
     "metadata": {},
     "output_type": "execute_result"
    },
    {
     "data": {
      "image/png": "[encoded data removed]",
      "text/plain": [
       "<Figure size 432x288 with 2 Axes>"
      ]
     },
     "metadata": {
      "needs_background": "light"
     },
     "output_type": "display_data"
    }
   ],
   "source": [
    "#creating guess\n",
    "M = 11\n",
    "N = 8\n",
    "T1 = 300\n",
    "T2 = 400\n",
    "theta = T1 * np.ones((N,M))\n",
    "theta[:,M-1] = T2\n",
    "\n",
    "#plotting intial guess\n",
    "plt.imshow(theta, origin='lower')\n",
    "plt.xlabel('M')\n",
    "plt.ylabel('N')\n",
    "plt.colorbar(shrink=0.9,label='Kelvin')\n",
    "plt.title('Fig 1: Initial Temperature Guess')\n"
   ]
  },
  {
   "cell_type": "markdown",
   "metadata": {},
   "source": [
    "### Running the SOR Function and Plotting"
   ]
  },
  {
   "cell_type": "code",
   "execution_count": 43,
   "metadata": {},
   "outputs": [
    {
     "name": "stdout",
     "output_type": "stream",
     "text": [
      "Finished after  42  iterations\n"
     ]
    }
   ],
   "source": [
    "omega = 0.7\n",
    "delta = 1\n",
    "tol = 1e-4\n",
    "iter = 1\n",
    "while  delta > tol:\n",
    "    thetain = np.copy(theta)\n",
    "    theta = update_GS_SOR(theta,M,N,omega)\n",
    "    delta = np.max(np.abs(thetain-theta))\n",
    "    iter += 1\n",
    "print(\"Finished after \",iter,\" iterations\")"
   ]
  },
  {
   "cell_type": "code",
   "execution_count": 44,
   "metadata": {},
   "outputs": [
    {
     "data": {
      "text/plain": [
       "Text(0.5, 1.0, 'Fig 2: SOR Method Output')"
      ]
     },
     "execution_count": 44,
     "metadata": {},
     "output_type": "execute_result"
    },
    {
     "data": {
      "image/png": "[encoded data removed]",
      "text/plain": [
       "<Figure size 432x288 with 2 Axes>"
      ]
     },
     "metadata": {
      "needs_background": "light"
     },
     "output_type": "display_data"
    }
   ],
   "source": [
    "#plotting SOR method output\n",
    "plt.imshow(theta, origin='lower')\n",
    "plt.xlabel('M')\n",
    "plt.ylabel('N')\n",
    "plt.colorbar(shrink=0.9,label='Kelvin')\n",
    "plt.title('Fig 2: SOR Method Output')"
   ]
  },
  {
   "cell_type": "markdown",
   "metadata": {},
   "source": [
    "### 4. Time evolution function"
   ]
  },
  {
   "cell_type": "code",
   "execution_count": 58,
   "metadata": {},
   "outputs": [],
   "source": [
    "def update_temperature2D(temper, M, N, zeta):\n",
    "    \"\"\"Perform explicit forward FD update for heat equation\n",
    "    Inputs:\n",
    "    temper  Array of temperature at present timestep\n",
    "    n       Temperature timestep to calculate\n",
    "    zeta    Constant of proportionality\n",
    "    \"\"\"\n",
    "    #intialising temper_next\n",
    "    tempNlen = np.size(temper,0)\n",
    "    tempMlen = np.size(temper,1)\n",
    "    temper_next = np.zeros((tempNlen,tempMlen))\n",
    "    \n",
    "    #updating\n",
    "    for i in range(1,(tempNlen-1)): \n",
    "        for j in range(1,tempMlen-1):\n",
    "            temper_next[i,j] = temper[i,j] + zeta*(temper[i+1,j] + temper[i-1,j] \n",
    "                                                   + temper[i,j+1] + temper[i,j-1] - 4*temper[i,j])\n",
    "    return temper_next"
   ]
  },
  {
   "cell_type": "markdown",
   "metadata": {},
   "source": [
    "### 5. Set up initial conditions"
   ]
  },
  {
   "cell_type": "code",
   "execution_count": 59,
   "metadata": {},
   "outputs": [
    {
     "data": {
      "text/plain": [
       "Text(0.5, 1.0, 'Fig 3: Initial Temperature Guess')"
      ]
     },
     "execution_count": 59,
     "metadata": {},
     "output_type": "execute_result"
    },
    {
     "data": {
      "image/png": "[encoded data removed]",
      "text/plain": [
       "<Figure size 432x288 with 2 Axes>"
      ]
     },
     "metadata": {
      "needs_background": "light"
     },
     "output_type": "display_data"
    }
   ],
   "source": [
    "M = 11\n",
    "N = 8\n",
    "T1 = 300\n",
    "T2 = 400\n",
    "theta0 = T1 * np.ones((N,M))\n",
    "theta0[:,M-1] = T2\n",
    "\n",
    "#plotting intial guess\n",
    "plt.imshow(theta0, origin='lower')\n",
    "plt.xlabel('M')\n",
    "plt.ylabel('N')\n",
    "plt.colorbar(shrink=0.9,label='Kelvin')\n",
    "plt.title('Fig 3: Initial Temperature Guess')"
   ]
  },
  {
   "cell_type": "markdown",
   "metadata": {},
   "source": [
    "### 6. Propagate the solution and store selected points"
   ]
  },
  {
   "cell_type": "code",
   "execution_count": 80,
   "metadata": {},
   "outputs": [],
   "source": [
    "Nt = 400\n",
    "zeta = 0.1\n",
    "for i in range(Nt):\n",
    "    theta_next = update_temperature2D(theta0,M,N,zeta)\n",
    "    theta0 = theta_next\n",
    "    theta0[:,M-1] = T2\n",
    "    theta0[:,0] = T1\n",
    "    theta0[0,0:M-1] = T1\n",
    "    theta0[N-1,0:M-1] = T1"
   ]
  },
  {
   "cell_type": "markdown",
   "metadata": {},
   "source": [
    "### Plotting the final and steady-state solutions\n",
    "Below, we also plot the difference between the two solutions."
   ]
  },
  {
   "cell_type": "code",
   "execution_count": 76,
   "metadata": {},
   "outputs": [
    {
     "data": {
      "text/plain": [
       "Text(0.5, 1.0, 'Fig 4: Final Temperature Guess')"
      ]
     },
     "execution_count": 76,
     "metadata": {},
     "output_type": "execute_result"
    },
    {
     "data": {
      "image/png": "[encoded data removed]",
      "text/plain": [
       "<Figure size 432x288 with 2 Axes>"
      ]
     },
     "metadata": {
      "needs_background": "light"
     },
     "output_type": "display_data"
    }
   ],
   "source": [
    "#plotting final state\n",
    "plt.imshow(theta0, origin='lower')\n",
    "plt.xlabel('M')\n",
    "plt.ylabel('N')\n",
    "plt.colorbar(shrink=0.9,label='Kelvin')\n",
    "plt.title('Fig 4: Final Temperature')"
   ]
  },
  {
   "cell_type": "code",
   "execution_count": 78,
   "metadata": {},
   "outputs": [
    {
     "data": {
      "text/plain": [
       "Text(0.5, 1.0, 'Fig 5: Different between Final Temperatures')"
      ]
     },
     "execution_count": 78,
     "metadata": {},
     "output_type": "execute_result"
    },
    {
     "data": {
      "image/png": "[encoded data removed]",
      "text/plain": [
       "<Figure size 432x288 with 2 Axes>"
      ]
     },
     "metadata": {
      "needs_background": "light"
     },
     "output_type": "display_data"
    }
   ],
   "source": [
    "diff = np.abs(theta0-theta)\n",
    "plt.imshow(diff, origin='lower')\n",
    "plt.xlabel('M')\n",
    "plt.ylabel('N')\n",
    "plt.colorbar(shrink=0.9,label='Kelvin')\n",
    "plt.title('Fig 5: Different between Final Temperatures')"
   ]
  },
  {
   "cell_type": "markdown",
   "metadata": {},
   "source": [
    "## Conclusion\n",
    "\n",
    "THe difference between these two methods is extremely small given the size of the intial temperatures, these two methods are both fairly accurate and efficient in nature. In figure 5 it is possible to see the larger differences in temperature come from the bottom left corner, there is no clear explanation for this trend, this could be researched further."
   ]
  },
  {
   "cell_type": "code",
   "execution_count": null,
   "metadata": {},
   "outputs": [],
   "source": []
  }
 ],
 "metadata": {
  "kernelspec": {
   "display_name": "Python 3",
   "language": "python",
   "name": "python3"
  },
  "language_info": {
   "codemirror_mode": {
    "name": "ipython",
    "version": 3
   },
   "file_extension": ".py",
   "mimetype": "text/x-python",
   "name": "python",
   "nbconvert_exporter": "python",
   "pygments_lexer": "ipython3",
   "version": "3.8.5"
  }
 },
 "nbformat": 4,
 "nbformat_minor": 2
}
