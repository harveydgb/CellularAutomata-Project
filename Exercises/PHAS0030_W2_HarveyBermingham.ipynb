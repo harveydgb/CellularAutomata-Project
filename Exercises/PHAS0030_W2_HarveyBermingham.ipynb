{
 "cells": [
  {
   "cell_type": "markdown",
   "metadata": {},
   "source": [
    "# Finding the minimum energy of a QHO electron in it's ground state via modelling\n",
    "## Harvey Bermingham 18003453\n",
    "\n",
    "This notebook will follow the developent of some code to find the minimum ground state energy of an electron acting as a quantum harmonic oscillator (QHO). \n",
    "\n",
    "The quantum Hamiltonian will operate on the 1D and 2D ground state wave functions to find respective functions of energy. Then a bisection method will be used to accurately locate the minimum of the energy function, this will be achieved by varying $\\alpha$, a variable in the ground state wave equation.\n",
    "\n",
    "The 2D Hamiltonian applied to the wave function is given as:\n",
    "\n",
    "Equation 1:\n",
    "$$\n",
    "\\hat{H} = -\\frac{1}{2}(\\frac{d^2}{dx^2} + \\frac{d^2}{dy^2}) +\\frac{1}{2} ω^2 (x^2 + y^2)\n",
    "$$\n",
    "\n",
    "Where ω is the angular frequency of the wave function, in the equations ω has been set to = 1. To make this 1D all y arguments may simply be removed.\n",
    "\n",
    "All units will be in a.u.\n",
    "\n"
   ]
  },
  {
   "cell_type": "code",
   "execution_count": 1,
   "metadata": {},
   "outputs": [],
   "source": [
    "#importing modules\n",
    "import numpy as np\n",
    "import matplotlib.pyplot as plt"
   ]
  },
  {
   "cell_type": "markdown",
   "metadata": {},
   "source": [
    "### 1D Quantum Harmonic Oscillator\n",
    "\n",
    "In this section several functions will be developed, the first of which will be to find the energy of the QHO as a function of $\\alpha$.\n",
    "\n",
    "The 1D ground state wave function has a gaussian form and is given as:\n",
    "\n",
    "Equation 2:\n",
    "$$\n",
    "ψ(x)= {(\\frac{2α}{π})}^\\frac{1}{4} e^{-αx^2}\n",
    "$$\n",
    "\n",
    "After applying the Hamiltonian the energy is given as:\n",
    "\n",
    "Equation 3:\n",
    "$$\n",
    "E_{GS}=\\frac{α}{2}+\\frac{1}{8\\alpha}\n",
    "$$\n",
    "\n",
    "Below are several functions, the first gives energy as a function of $\\alpha$, as shown in Eq. 3 above. "
   ]
  },
  {
   "cell_type": "code",
   "execution_count": 2,
   "metadata": {},
   "outputs": [],
   "source": [
    "#Eq. 3 function\n",
    "def QHO_E(alpha):\n",
    "    \"\"\"Finds the energy in a.u. of ground state electron as a function of α. \n",
    "    Uses the function QHO_E=α/2 + 1/8α\n",
    "    \n",
    "    Inputs:\n",
    "    alpha: coordinate of function and variable\n",
    "    \n",
    "    Outputs:\n",
    "    energy: energy value of QHO electron\n",
    "    \"\"\"\n",
    "    \n",
    "    return (alpha/2 + 1/(alpha*8))"
   ]
  },
  {
   "cell_type": "markdown",
   "metadata": {},
   "source": [
    "The function defined below gives the gradient of the energy with respect to $\\alpha$."
   ]
  },
  {
   "cell_type": "code",
   "execution_count": 3,
   "metadata": {},
   "outputs": [],
   "source": [
    "#gradient of Eq. 3 function\n",
    "def QHO_grad(alpha):\n",
    "    \"\"\"Finds the gradient of the energy function at α.\n",
    "    Uses the function QHO_grad=1/2 - 1/8α^2\n",
    "    \n",
    "    Inputs:\n",
    "    alpha: coordinate of function and variable\n",
    "    \n",
    "    Outputs:\n",
    "    gradient: gradient of energy function at α\n",
    "    \"\"\"\n",
    "    return (1/2 - 1/(8*(alpha**2)))"
   ]
  },
  {
   "cell_type": "markdown",
   "metadata": {},
   "source": [
    "This third function is a bisection function that will be used to locate the minimum of the energy function. It will accept the gradient function of energy and find the and accurate value for location of the root. Two $\\alpha$ coordinates placed either side of the root, called brackets, will be required to specify the search area."
   ]
  },
  {
   "cell_type": "code",
   "execution_count": 4,
   "metadata": {},
   "outputs": [],
   "source": [
    "#bisection function\n",
    "def bisection(fun,a,b,tol):\n",
    "    \"\"\"Uses the bisection method to find the value of alpha at the function-\n",
    "    minimum that lies between a and b.\n",
    "    \n",
    "    Inputs:\n",
    "    fun: gradient of energy function\n",
    "    a: bracket in negative alpha direction of minimum\n",
    "    b: bracket in positive alpha direction of minimum\n",
    "    tol: accuracy of the final outputted value\n",
    "    \n",
    "    Outputs:\n",
    "    c: alpha coordinate of function root\"\"\"\n",
    "    \n",
    "    f_a = fun(a)\n",
    "    \n",
    "    # Initialise counter\n",
    "    n = 0 \n",
    "    c = a\n",
    "    \n",
    "    #bisection method\n",
    "    while abs(a-b) > tol and n < 100:\n",
    "        c = (a+b)/2\n",
    "        if fun(c)*f_a > 0:\n",
    "            a = c\n",
    "        else:\n",
    "            b = c\n",
    "        n += 1\n",
    "\n",
    "    return n, c"
   ]
  },
  {
   "cell_type": "markdown",
   "metadata": {},
   "source": [
    "Now the energy gradient function is plotted to be able to determine suitable values for the brackets used in the bisection function."
   ]
  },
  {
   "cell_type": "code",
   "execution_count": 16,
   "metadata": {},
   "outputs": [
    {
     "data": {
      "text/plain": [
       "Text(0.5, 1.0, 'Fig1: Energy gradient as a function of α')"
      ]
     },
     "execution_count": 16,
     "metadata": {},
     "output_type": "execute_result"
    },
    {
     "data": {
      "image/png": "[encoded data removed]",
      "text/plain": [
       "<Figure size 432x288 with 1 Axes>"
      ]
     },
     "metadata": {
      "needs_background": "light"
     },
     "output_type": "display_data"
    }
   ],
   "source": [
    "#plotting gradient function graph\n",
    "alpha = np.linspace(0.3,3,100)\n",
    "plt.plot(alpha,QHO_grad(alpha))\n",
    "plt.grid()\n",
    "plt.xlabel('α')\n",
    "plt.ylabel(\"gradient of E(α)\")\n",
    "plt.title('Fig1: Energy gradient as a function of α')"
   ]
  },
  {
   "cell_type": "markdown",
   "metadata": {},
   "source": [
    "From this graph it is possible to see that suitable brackets are 0.3 and 1.0, very easily either side of the root."
   ]
  },
  {
   "cell_type": "code",
   "execution_count": 12,
   "metadata": {},
   "outputs": [
    {
     "name": "stdout",
     "output_type": "stream",
     "text": [
      "A minimum lies at α = 0.5000000000000042\n",
      "The minimum energy value is: 0.5\n"
     ]
    }
   ],
   "source": [
    "# defining brackets and tolerance\n",
    "a = 0.3\n",
    "b = 1.0\n",
    "tol = 1e-14\n",
    "\n",
    "#finding gradient root\n",
    "n, alpha = bisection(QHO_grad,a,b,tol)\n",
    "\n",
    "print('A minimum lies at α =',alpha)\n",
    "print('The minimum energy value is:',QHO_E(alpha))"
   ]
  },
  {
   "cell_type": "markdown",
   "metadata": {},
   "source": [
    "These results show that the minimum energy value lies at at $\\alpha$ = 0.5. The answer given is not exact to 0.5 due to innate uncertainty of the bisection method. However, as the tolerance is increased the outputted value comes closer and closer to real value of 0.5 which may be found analytically as well as visually via the graph.\n",
    "\n",
    "The minimum value of energy has also calculated to be 0.5 using the original energy equation given above."
   ]
  },
  {
   "cell_type": "markdown",
   "metadata": {},
   "source": [
    "### 2D Quantum Harmonic Oscillator\n",
    "\n",
    "This section will follow the same general stucture as the last, the main difference being the functions developed for energy and the energy gradient will all be in 2D as oppossed to 1D. \n",
    "\n",
    "These functions will be used to find the minimum value across a 2D space which requires an optimization function. This function will make use of the conjugate gradient feature which begins at a start point and searches in 360$^{\\circ}$ for the most negative gradient, then it carries out a linesearch for the minimum along that line placing the new start point at the minimum and starting again.\n",
    "\n",
    "The 2D ground state wave function has a gaussian form and is given as:\n",
    "\n",
    "Equation 4:\n",
    "$$\n",
    "ψ(x,y)= {(\\frac{2α}{π})}^\\frac{1}{4} e^{-αx^2}{(\\frac{2β}{π})}^\\frac{1}{4} e^{-βy^2}\n",
    "$$            \n",
    "\n",
    "After applying the Hamiltonian the energy is given as:\n",
    "\n",
    "Equation 5:\n",
    "$$\n",
    "E_{GS}=\\frac{α}{2}+\\frac{1}{8\\alpha}+\\frac{β}{2}+\\frac{1}{8β}\n",
    "$$\n",
    "\n",
    "The first function below evaluates Eq. 5, it will accept arrays that hold both $\\alpha$ and β and find the energy at that point, returning a scalar value. "
   ]
  },
  {
   "cell_type": "code",
   "execution_count": 7,
   "metadata": {},
   "outputs": [],
   "source": [
    "#function for Eq. 5\n",
    "def QHO_2D_E(x):\n",
    "    \"\"\"Finds the energy in a.u. of ground state electron as a function of α and β. \n",
    "    Uses the function E_GS show in Eq. 5\n",
    "    \n",
    "    Inputs:\n",
    "    α: coordinate of function and variable\n",
    "    β: coordinate of function and variable\n",
    "    \n",
    "    Outputs:\n",
    "    energy: energy value of QHO electron at (α,β)\n",
    "    \"\"\"\n",
    "    \n",
    "    return (x[0]/2 + 1/(x[0]*8) + x[1]/2 + 1/(x[1]*8))"
   ]
  },
  {
   "cell_type": "markdown",
   "metadata": {},
   "source": [
    "Here energy function (Eq. 5) is plotted in the $\\alpha$β plane to give an idea of the location of the minimum energy and how the energy varies."
   ]
  },
  {
   "cell_type": "code",
   "execution_count": 18,
   "metadata": {},
   "outputs": [
    {
     "data": {
      "text/plain": [
       "Text(0.5, 1.03, 'Fig2: Energy of oscillating electron in ground state')"
      ]
     },
     "execution_count": 18,
     "metadata": {},
     "output_type": "execute_result"
    },
    {
     "data": {
      "image/png": "[encoded data removed]",
      "text/plain": [
       "<Figure size 432x288 with 2 Axes>"
      ]
     },
     "metadata": {
      "needs_background": "light"
     },
     "output_type": "display_data"
    }
   ],
   "source": [
    "#creating array of αβ plane coodinates\n",
    "alpha = np.linspace(0.1,1,100)\n",
    "beta = np.linspace(0.1,1,100)\n",
    "a_mesh, b_mesh = np.meshgrid(alpha, beta)\n",
    "ab_mesh = np.array([a_mesh,b_mesh])\n",
    "\n",
    "#plotting 2d graph\n",
    "plt.imshow(QHO_2D_E(ab_mesh), origin='lower',extent=(0.1,1,0.1,1))\n",
    "plt.xlabel('α')\n",
    "plt.ylabel('β')\n",
    "plt.colorbar()\n",
    "plt.title('Fig2: Energy of oscillating electron in ground state', y=1.03)"
   ]
  },
  {
   "cell_type": "markdown",
   "metadata": {},
   "source": [
    "The function to calculate the 2D gradient vector will now be defined, this will accept arrays with two rows, the first being used to give $\\alpha$ and the second for β. It will calculate the partial differentials of the Eq. 5 with respect to $\\alpha$ and β and output the scalar values into the first and second row of an array respectively. The ouput therefore will be the vector gradient of the Energy function at ($\\alpha$,β)."
   ]
  },
  {
   "cell_type": "code",
   "execution_count": 9,
   "metadata": {},
   "outputs": [],
   "source": [
    "#gradient function of Eq. 5\n",
    "def QHO_2D_grad(x):\n",
    "    \"\"\"Finds the vector gradient of the 2D energy function at coordinates (α,β).\n",
    "    \n",
    "    Inputs:\n",
    "    x: array that holds the α,β coordinate in the form [α,β]\n",
    "    \n",
    "    Outputs:\n",
    "    gradient of E(α,β): the vector gradients of the function in array form with-\n",
    "    respect to α and β, [dE_dα,dE_dβ]\n",
    "    \"\"\"\n",
    "    \n",
    "    #calculating vectors\n",
    "    dE_dα = (1/2 - 1/(8*(x[0]**2))) \n",
    "    dE_dβ = (1/2 - 1/(8*(x[1]**2)))\n",
    "    \n",
    "    return np.array([dE_dα,dE_dβ])"
   ]
  },
  {
   "cell_type": "markdown",
   "metadata": {},
   "source": [
    "The optimisation function along with the newly defined functions above are now used to find the minimum energy coordinate in the $\\alpha$β plane."
   ]
  },
  {
   "cell_type": "code",
   "execution_count": 10,
   "metadata": {},
   "outputs": [],
   "source": [
    "from scipy import optimize\n",
    "\n",
    "#start point\n",
    "x0 = np.array([0.1,0.2])\n",
    "\n",
    "tolerance = 1e-6\n",
    "\n",
    "opt_result = optimize.minimize(QHO_2D_E, x0, method='CG', jac=QHO_2D_grad, tol = tolerance)"
   ]
  },
  {
   "cell_type": "markdown",
   "metadata": {},
   "source": [
    "Printing solutions:"
   ]
  },
  {
   "cell_type": "code",
   "execution_count": 11,
   "metadata": {},
   "outputs": [
    {
     "name": "stdout",
     "output_type": "stream",
     "text": [
      "Optimisation success?: True\n",
      "The minimum energy in the αβ plane is found to lie at the coordinates: [0.50000001 0.50000002]\n",
      "The minimum energy is: 1.0000000000000004\n",
      "The optimisation tool took 6 iteration(s) to complete.\n"
     ]
    }
   ],
   "source": [
    "print('Optimisation success?:',opt_result.success)\n",
    "print('The minimum energy in the αβ plane is found to lie at the coordinates:',opt_result.x)\n",
    "print('The minimum energy is:',QHO_2D_E(opt_result.x))\n",
    "print('The optimisation tool took',opt_result.nit,'iteration(s) to complete.')"
   ]
  },
  {
   "cell_type": "markdown",
   "metadata": {},
   "source": [
    "### Conclusions\n",
    "\n",
    "This development of code has worked well, by the end it was possible to use the functions defined to identify the minimum energy coordinates and therefore the minimum energy of a QHO electron in it's groundstate. The values outputted above from the optimisation function are match the values that can be read from the graph in Fig. 2.\n",
    "\n",
    "It was noticed that when the x0 variable was set to (0,0) errors would occur for the optimize.minimize function, this was found to be as a result of the energy equations, where coordinate variables have negative indicies. From this we know in this case it is not possible to start the optimization from x0 = (0,0)."
   ]
  },
  {
   "cell_type": "code",
   "execution_count": null,
   "metadata": {},
   "outputs": [],
   "source": []
  }
 ],
 "metadata": {
  "kernelspec": {
   "display_name": "Python 3",
   "language": "python",
   "name": "python3"
  },
  "language_info": {
   "codemirror_mode": {
    "name": "ipython",
    "version": 3
   },
   "file_extension": ".py",
   "mimetype": "text/x-python",
   "name": "python",
   "nbconvert_exporter": "python",
   "pygments_lexer": "ipython3",
   "version": "3.8.5"
  }
 },
 "nbformat": 4,
 "nbformat_minor": 2
}
