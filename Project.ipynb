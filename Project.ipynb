{
 "cells": [
  {
   "cell_type": "markdown",
   "metadata": {},
   "source": [
    "# Automata Project File\n",
    "\n",
    "I have labelled each of the updates taken by the date it was applied along with some descriptions of what is happening in the code cell. The attachment of dates should allow for easy access to this file coming from the logbook."
   ]
  },
  {
   "cell_type": "code",
   "execution_count": 1,
   "metadata": {},
   "outputs": [],
   "source": [
    "import numpy as np\n",
    "import matplotlib.pyplot as plt"
   ]
  },
  {
   "cell_type": "markdown",
   "metadata": {},
   "source": [
    "### 10/02/21"
   ]
  },
  {
   "cell_type": "code",
   "execution_count": 2,
   "metadata": {},
   "outputs": [],
   "source": [
    "def update(arr):\n",
    "    \"\"\"Updates the values in the array according to the set of rules\n",
    "    Inputs:\n",
    "    arr: input array\n",
    "    Returns:\n",
    "    arr_updated\n",
    "    \"\"\"\n",
    "    N = np.size(arr)\n",
    "    arr_updated = np.copy(arr)\n",
    "    \n",
    "    #looping over all cells in arr\n",
    "    for i in range(N):\n",
    "        \n",
    "        #sum of surrounding\n",
    "        sum = np.roll(arr,1)[i] + arr[i] + np.roll(arr,-1)[i]\n",
    "        \n",
    "        #rules\n",
    "        if sum == 3:\n",
    "            val = 0\n",
    "        elif sum == 2:\n",
    "            val = 1\n",
    "        elif sum == 1:\n",
    "            val = 0\n",
    "        else:\n",
    "            val = 0\n",
    "        \n",
    "        arr_updated[i] = val\n",
    "    \n",
    "    return arr_updated"
   ]
  },
  {
   "cell_type": "code",
   "execution_count": 3,
   "metadata": {},
   "outputs": [
    {
     "name": "stdout",
     "output_type": "stream",
     "text": [
      "Before [0 1 1 0 1 1 1 0 0 1]\n",
      "After  [1 1 1 1 1 0 1 0 0 0]\n"
     ]
    }
   ],
   "source": [
    "#single array testing\n",
    "arr = np.array([0,1,1,0,1,1,1,0,0,1])\n",
    "\n",
    "print('Before',arr)\n",
    "print('After ',update(arr))"
   ]
  },
  {
   "cell_type": "markdown",
   "metadata": {},
   "source": [
    "### 13/02/21"
   ]
  },
  {
   "cell_type": "code",
   "execution_count": 4,
   "metadata": {},
   "outputs": [],
   "source": [
    "def update1(arr,rules):\n",
    "    \"\"\"Updates the values in the array according to the set of inputted rules\n",
    "    Inputs:\n",
    "    arr: input array\n",
    "    rules: defines rules, binary array (outcomes of rules for 3,2,1,0)\n",
    "    Returns:\n",
    "    arr_updated\n",
    "    \"\"\"\n",
    "    N = np.size(arr)\n",
    "    arr_updated = np.copy(arr)\n",
    "    \n",
    "    #looping over all cells in arr\n",
    "    for i in range(N):\n",
    "        \n",
    "        #sum of surrounding\n",
    "        sum = np.roll(arr,1)[i] + arr[i] + np.roll(arr,-1)[i]\n",
    "        \n",
    "        #rules\n",
    "        if sum == 3:\n",
    "            val = rules[3]\n",
    "        elif sum == 2:\n",
    "            val = rules[2]\n",
    "        elif sum == 1:\n",
    "            val = rules[1]\n",
    "        else:\n",
    "            val = rules[0]\n",
    "        \n",
    "        arr_updated[i] = val\n",
    "    \n",
    "    return arr_updated"
   ]
  },
  {
   "cell_type": "code",
   "execution_count": 5,
   "metadata": {
    "scrolled": true
   },
   "outputs": [
    {
     "name": "stdout",
     "output_type": "stream",
     "text": [
      "[0 0 0]\n",
      "[0 0 0]\n",
      "[1 1 1]\n",
      "[0 0 0]\n",
      "[0 0 0]\n",
      "[1 1 1]\n",
      "[0 0 0]\n",
      "[0 0 0]\n",
      "[1 1 1]\n",
      "[1 1 1]\n",
      "[0 0 0]\n",
      "[1 1 1]\n",
      "[1 1 1]\n",
      "[1 1 1]\n",
      "[0 0 0]\n",
      "[1 1 1]\n"
     ]
    }
   ],
   "source": [
    "#sets of rules\n",
    "rule1 = np.array([0,0,0,0])\n",
    "rule2 = np.array([1,0,0,0])\n",
    "rule3 = np.array([0,1,0,0])\n",
    "rule4 = np.array([0,0,1,0])\n",
    "rule5 = np.array([0,0,0,1])\n",
    "rule6 = np.array([1,1,0,0])\n",
    "rule7 = np.array([1,0,1,0])\n",
    "rule8 = np.array([1,0,0,1])\n",
    "rule9 = np.array([0,1,1,0])\n",
    "rule10 = np.array([0,1,0,1])\n",
    "rule11 = np.array([0,0,1,1])\n",
    "rule12 = np.array([1,1,1,0])\n",
    "rule13 = np.array([1,1,0,1])\n",
    "rule14 = np.array([0,1,1,1])\n",
    "rule15 = np.array([1,0,1,1])\n",
    "rule16 = np.array([1,1,1,1])\n",
    "\n",
    "\n",
    "\n",
    "#testing over all possibilities\n",
    "arr1 = np.array([0,0,1])\n",
    "\n",
    "\n",
    "#printing\n",
    "print(update1(arr1,rule1))\n",
    "print(update1(arr1,rule2))\n",
    "print(update1(arr1,rule3))\n",
    "print(update1(arr1,rule4))\n",
    "print(update1(arr1,rule5))\n",
    "print(update1(arr1,rule6))\n",
    "print(update1(arr1,rule7))\n",
    "print(update1(arr1,rule8))\n",
    "print(update1(arr1,rule9))\n",
    "print(update1(arr1,rule10))\n",
    "print(update1(arr1,rule11))\n",
    "print(update1(arr1,rule12))\n",
    "print(update1(arr1,rule13))\n",
    "print(update1(arr1,rule14))\n",
    "print(update1(arr1,rule15))\n",
    "print(update1(arr1,rule16))"
   ]
  },
  {
   "cell_type": "markdown",
   "metadata": {},
   "source": [
    "## 23/02/21\n",
    "\n",
    "For all values in the cells the 16 rules always give 8 outputs of array [1,1,1] and 8 outputs of array [0,0,0]. Below I have created some code to apply the update n times to an array, I will vary the rules in use to try to understand better the different effects the variations have on the evolving array."
   ]
  },
  {
   "cell_type": "code",
   "execution_count": 23,
   "metadata": {},
   "outputs": [
    {
     "name": "stdout",
     "output_type": "stream",
     "text": [
      "Step 0 \n",
      " [1 1 1 0 0 1 0 1 0]\n",
      "Step 1 \n",
      " [1 0 1 0 0 0 1 0 1]\n",
      "Step 2 \n",
      " [1 1 0 0 1 0 0 1 1]\n",
      "Step 3 \n",
      " [0 1 0 0 0 0 0 1 0]\n",
      "Step 4 \n",
      " [0 0 0 1 1 1 0 0 0]\n",
      "Step 5 \n",
      " [1 1 0 1 0 1 0 1 1]\n",
      "Step 6 \n",
      " [0 1 1 0 1 0 1 1 0]\n",
      "Step 7 \n",
      " [0 1 1 1 0 1 1 1 0]\n",
      "Step 8 \n",
      " [0 1 0 1 1 1 0 1 0]\n",
      "Step 9 \n",
      " [0 0 1 1 0 1 1 0 0]\n",
      "Step 10 \n",
      " [1 0 1 1 1 1 1 0 1]\n",
      "Step 11 \n",
      " [1 1 1 0 0 0 1 1 1]\n",
      "Step 12 \n",
      " [0 0 1 0 1 0 1 0 0]\n",
      "Step 13 \n",
      " [1 0 0 1 0 1 0 0 1]\n",
      "Step 14 \n",
      " [1 0 0 0 1 0 0 0 1]\n",
      "Step 15 \n",
      " [1 0 1 0 0 0 1 0 1]\n",
      "Step 16 \n",
      " [1 1 0 0 1 0 0 1 1]\n",
      "Step 17 \n",
      " [0 1 0 0 0 0 0 1 0]\n",
      "Step 18 \n",
      " [0 0 0 1 1 1 0 0 0]\n",
      "Step 19 \n",
      " [1 1 0 1 0 1 0 1 1]\n",
      "Step 20 \n",
      " [0 1 1 0 1 0 1 1 0]\n"
     ]
    }
   ],
   "source": [
    "n = 20   # iterations\n",
    "i = 0      # setting counter\n",
    "\n",
    "initial_array = np.array([1,1,1,0,0,1,0,1,0])\n",
    "print('Step 0','\\n',initial_array)\n",
    "\n",
    "#applying update1 over n iterations\n",
    "while i < n:\n",
    "    i += 1\n",
    "    initial_array = update1(initial_array,rule7)\n",
    "    print('Step',i,'\\n',initial_array)"
   ]
  },
  {
   "cell_type": "markdown",
   "metadata": {},
   "source": [
    "### 17/02/21\n",
    "\n",
    "Function now steps in time for n steps and will remember the layout of the step n-1 which will affect the step n+1. If the previous cell had a total of 3 then it will set to 1 ad long as the total>0. Using a version of rule 10 from above."
   ]
  },
  {
   "cell_type": "code",
   "execution_count": null,
   "metadata": {},
   "outputs": [],
   "source": [
    "def update2(arr,n_steps):\n",
    "    \"\"\"Updates the values in the array according to the set of rules\n",
    "    Inputs:\n",
    "    arr: input array\n",
    "    n_steps: number of time steps\n",
    "    Returns:\n",
    "    arr_updated\n",
    "    \"\"\"\n",
    "    #initialising\n",
    "    len = np.size(arr)\n",
    "    arr_prev = np.copy(arr)\n",
    "    arr_curr = np.copy(arr)\n",
    "    arr_next = np.copy(arr)\n",
    "    n = 0\n",
    "    \n",
    "    print('Step',n,arr_curr)\n",
    "    \n",
    "    #looping for n steps\n",
    "    while n < n_steps:\n",
    "        \n",
    "        \n",
    "        #looping over all cells in array\n",
    "        for i in range(len):\n",
    "\n",
    "            #sum of surrounding\n",
    "            sum_curr = np.roll(arr_curr,1)[i] + arr_curr[i] + np.roll(arr_curr,-1)[i]\n",
    "            sum_prev = np.roll(arr_prev,1)[i] + arr_prev[i] + np.roll(arr_prev,-1)[i]\n",
    "\n",
    "            #rules\n",
    "            if n > 0 and sum_prev == 3 and sum_curr>0:\n",
    "                val = 1\n",
    "            elif sum_curr == 3:\n",
    "                val = 0\n",
    "            elif sum_curr == 2:\n",
    "                val = 1\n",
    "            elif sum_curr == 1:\n",
    "                val = 0\n",
    "            else:\n",
    "                val = 1\n",
    "\n",
    "            arr_next[i] = val\n",
    "            \n",
    "        \n",
    "        arr_prev = arr_curr\n",
    "        arr_curr = np.copy(arr_next)\n",
    "        print('Step',n+1,arr_curr)\n",
    "        \n",
    "        #counter    \n",
    "        n += 1\n",
    "    \n",
    "    return arr_curr"
   ]
  },
  {
   "cell_type": "code",
   "execution_count": null,
   "metadata": {},
   "outputs": [],
   "source": [
    "#2 steps for repetition\n",
    "arr = np.array((1,1,1,0,1,1,1,0))\n",
    "update2(arr,3)"
   ]
  },
  {
   "cell_type": "code",
   "execution_count": null,
   "metadata": {},
   "outputs": [],
   "source": [
    "#very regular\n",
    "arr = np.array((1,1,0,1,1,0,1,1,0))\n",
    "update2(arr,3)"
   ]
  },
  {
   "cell_type": "code",
   "execution_count": null,
   "metadata": {},
   "outputs": [],
   "source": [
    "#random generation\n",
    "arr = np.array((0,1,0,0,0,0,1,1,0,0))\n",
    "update2(arr,10)"
   ]
  },
  {
   "cell_type": "code",
   "execution_count": null,
   "metadata": {},
   "outputs": [],
   "source": [
    "#random generation\n",
    "arr = np.array((0, 1, 0, 1, 1, 1, 1, 1, 0))\n",
    "update2(arr,10)"
   ]
  },
  {
   "cell_type": "markdown",
   "metadata": {},
   "source": [
    "### 20/02/21 - Game of Life"
   ]
  },
  {
   "cell_type": "code",
   "execution_count": null,
   "metadata": {},
   "outputs": [],
   "source": [
    "#testbed for using roll function to sum neighbours\n",
    "test = np.zeros((5,5))\n",
    "for i in range(5):\n",
    "    for j in range(5):\n",
    "        test2[i,j] = i + (i*4) + j\n",
    "\n",
    "print(test2)\n",
    "\n",
    "\n",
    "print(np.roll(test2,-1,axis=0)[2,2])\n",
    "print(np.roll(test2,+1,axis=0)[2,2])\n",
    "print(np.roll(test2,-1,axis=1)[2,2])\n",
    "print(np.roll(test2,+1,axis=1)[2,2])\n",
    "print(np.roll((np.roll(test2,1,axis=0)),1,axis=1)[2,2])\n",
    "print(np.roll((np.roll(test2,-1,axis=0)),1,axis=1)[2,2])\n",
    "print(np.roll((np.roll(test2,-1,axis=0)),-1,axis=1)[2,2])\n",
    "print(np.roll((np.roll(test2,1,axis=0)),-1,axis=1)[2,2])\n",
    "print(test2[2,2])"
   ]
  },
  {
   "cell_type": "code",
   "execution_count": null,
   "metadata": {},
   "outputs": [],
   "source": [
    "def GL_update(arr_curr,n_steps):\n",
    "    \"\"\"Applys the rules of the Game of Life to the array and outputs-\n",
    "    updated array at each time step.\n",
    "    Inputs:\n",
    "    arr_curr: initial 2d binary array (must be square)\n",
    "    n_steps: number of iterations\n",
    "    Returns:\n",
    "    updated array at each timestep\n",
    "    \"\"\"\n",
    "    #intialising\n",
    "    n = 0\n",
    "    len = np.size(arr_curr,axis=0)\n",
    "    arr_next = np.copy(arr_curr)\n",
    "    \n",
    "    #loop for each timestep\n",
    "    while n < n_steps:\n",
    "        \n",
    "        #loop over each cell\n",
    "        for i in range(len):\n",
    "            for j in range(len):\n",
    "                \n",
    "\n",
    "                #summing no. of neighbours\n",
    "                neighbours = np.roll(arr_curr,-1,axis=0)[i,j] + np.roll(arr_curr,+1,axis=0)[i,j] + \\\n",
    "                             np.roll(arr_curr,-1,axis=1)[i,j] + np.roll(arr_curr,+1,axis=1)[i,j] + \\\n",
    "                             np.roll(np.roll(arr_curr,1,axis=0),1,axis=1)[i,j] +   \\\n",
    "                             np.roll(np.roll(arr_curr,-1,axis=0),1,axis=1)[i,j] +  \\\n",
    "                             np.roll(np.roll(arr_curr,-1,axis=0),-1,axis=1)[i,j] + \\\n",
    "                             np.roll(np.roll(arr_curr,1,axis=0),-1,axis=1)[i,j]\n",
    "                \n",
    "                #applying rules\n",
    "                if arr_curr[i,j] == 0 and neighbours == 3:\n",
    "                    arr_next[i,j] = 1\n",
    "                elif arr_curr[i,j] == 1 and (neighbours == 2 or neighbours == 3):\n",
    "                    arr_next[i,j] = 1\n",
    "                else:\n",
    "                    arr_next[i,j] = 0\n",
    "\n",
    "        #updating array\n",
    "        arr_curr = arr_next\n",
    "        \n",
    "        #counter\n",
    "        n += 1\n",
    "        \n",
    "        #outputting array at timestep n\n",
    "        print(arr_curr,'Step',n,'\\n')"
   ]
  },
  {
   "cell_type": "markdown",
   "metadata": {},
   "source": [
    "### 21/02/21 - Fixing bugs"
   ]
  },
  {
   "cell_type": "code",
   "execution_count": null,
   "metadata": {},
   "outputs": [],
   "source": [
    "def GL_update(arr_curr,n_steps):\n",
    "    \"\"\"Applys the rules of the Game of Life to the array and outputs-\n",
    "    updated array at each step.\n",
    "    Inputs:\n",
    "    arr_curr: initial 2d binary array (must be square)\n",
    "    n_steps: number of iterations\n",
    "    Returns:\n",
    "    updated array at each timestep\n",
    "    \"\"\"\n",
    "    #intialising\n",
    "    n = 0\n",
    "    len = np.size(arr_curr,axis=0)\n",
    "    \n",
    "    print('Step',n,'\\n',arr_curr)\n",
    "    \n",
    "    #loop for each timestep\n",
    "    while n < n_steps:\n",
    "        \n",
    "        arr_next = np.zeros((len,len))\n",
    "        \n",
    "        #loop over each cell\n",
    "        for i in range(len):\n",
    "            for j in range(len):\n",
    "                \n",
    "                #summing no. of neighbours\n",
    "                neighbours = (np.roll(arr_curr,-1,axis=0)[i,j] + np.roll(arr_curr,+1,axis=0)[i,j] + \\\n",
    "                             np.roll(arr_curr,-1,axis=1)[i,j] + np.roll(arr_curr,+1,axis=1)[i,j] + \\\n",
    "                             np.roll((np.roll(arr_curr,1,axis=0)),1,axis=1)[i,j] +   \\\n",
    "                             np.roll((np.roll(arr_curr,-1,axis=0)),1,axis=1)[i,j] +  \\\n",
    "                             np.roll((np.roll(arr_curr,-1,axis=0)),-1,axis=1)[i,j] + \\\n",
    "                             np.roll((np.roll(arr_curr,1,axis=0)),-1,axis=1)[i,j])\n",
    "                \n",
    "                #applying rules\n",
    "                if (arr_curr[i,j] == 0) and (neighbours == 3):\n",
    "                    arr_next[i,j] = 1\n",
    "                elif (arr_curr[i,j] == 1) and (neighbours == 2 or neighbours == 3):\n",
    "                    arr_next[i,j] = 1\n",
    "                else:\n",
    "                    arr_next[i,j] = 0\n",
    "\n",
    "        #updating array\n",
    "        arr_curr = arr_next\n",
    "        \n",
    "        #counter\n",
    "        n += 1\n",
    "        \n",
    "        #outputting array at timestep n\n",
    "        print('Step',n,'\\n',arr_curr)"
   ]
  },
  {
   "cell_type": "code",
   "execution_count": null,
   "metadata": {},
   "outputs": [],
   "source": [
    "test = np.zeros((10,10))\n",
    "for i in range(3):\n",
    "    for j in range(3):\n",
    "        test[4+i,4+j] = 1\n",
    "\n",
    "GL_update(test,5)"
   ]
  },
  {
   "cell_type": "code",
   "execution_count": null,
   "metadata": {},
   "outputs": [],
   "source": [
    "#creating intial grid\n",
    "size = 10\n",
    "random_world = np.round(np.random.rand(size,size))\n",
    "\n",
    "GL_update(random_world,5)"
   ]
  },
  {
   "cell_type": "markdown",
   "metadata": {},
   "source": [
    "It is difficult to comprehend the live cells and the dead cells from the arrays of 1's and 0's, I am going to create a better visualisation of the arrays."
   ]
  },
  {
   "cell_type": "code",
   "execution_count": null,
   "metadata": {},
   "outputs": [],
   "source": [
    "def GL_update(arr_curr,n_steps):\n",
    "    \"\"\"Applys the rules of the Game of Life to the array and outputs-\n",
    "    updated array at each step.\n",
    "    Inputs:\n",
    "    arr_curr: initial 2d binary array (must be square)\n",
    "    n_steps: number of iterations\n",
    "    Returns:\n",
    "    updated plot of cells at each timestep\n",
    "    \"\"\"\n",
    "    #intialising\n",
    "    n = 0\n",
    "    len = np.size(arr_curr,axis=0)\n",
    "    \n",
    "    #plotting initial array\n",
    "    plt.figure()\n",
    "    plt.imshow(arr_curr,cmap='binary')\n",
    "    plt.title(f'Step ${n}$')\n",
    "    \n",
    "    #loop for each timestep\n",
    "    while n < n_steps:\n",
    "        \n",
    "        arr_next = np.zeros((len,len))\n",
    "        \n",
    "        #loop over each cell\n",
    "        for i in range(len):\n",
    "            for j in range(len):\n",
    "                \n",
    "                #summing no. of neighbours\n",
    "                neighbours = (np.roll(arr_curr,-1,axis=0)[i,j] + np.roll(arr_curr,+1,axis=0)[i,j] + \\\n",
    "                             np.roll(arr_curr,-1,axis=1)[i,j] + np.roll(arr_curr,+1,axis=1)[i,j] + \\\n",
    "                             np.roll((np.roll(arr_curr,1,axis=0)),1,axis=1)[i,j] +   \\\n",
    "                             np.roll((np.roll(arr_curr,-1,axis=0)),1,axis=1)[i,j] +  \\\n",
    "                             np.roll((np.roll(arr_curr,-1,axis=0)),-1,axis=1)[i,j] + \\\n",
    "                             np.roll((np.roll(arr_curr,1,axis=0)),-1,axis=1)[i,j])\n",
    "                \n",
    "                #applying rules\n",
    "                if (arr_curr[i,j] == 0) and (neighbours == 3):\n",
    "                    arr_next[i,j] = 1\n",
    "                elif (arr_curr[i,j] == 1) and (neighbours == 2 or neighbours == 3):\n",
    "                    arr_next[i,j] = 1\n",
    "                else:\n",
    "                    arr_next[i,j] = 0\n",
    "\n",
    "        #updating array\n",
    "        arr_curr = arr_next\n",
    "        \n",
    "        #counter\n",
    "        n += 1\n",
    "        \n",
    "        #plotting array at timestep n\n",
    "        plt.figure()\n",
    "        plt.imshow(arr_curr,cmap='binary')\n",
    "        plt.title(f'Step ${n}$')"
   ]
  },
  {
   "cell_type": "code",
   "execution_count": null,
   "metadata": {},
   "outputs": [],
   "source": [
    "test = np.zeros((10,10))\n",
    "for i in range(3):\n",
    "    for j in range(3):\n",
    "        test[4+i,4+j] = 1\n",
    "\n",
    "GL_update(test,5)"
   ]
  },
  {
   "cell_type": "markdown",
   "metadata": {},
   "source": [
    "### 23/02/21\n",
    "\n",
    "Applying array structure found from in new pdf. The same stable structure outcome from the block above can be found to appear after around 50 iterations and after 61 it is left alone."
   ]
  },
  {
   "cell_type": "code",
   "execution_count": null,
   "metadata": {},
   "outputs": [],
   "source": [
    "test = np.zeros((20,20))\n",
    "\n",
    "test[10,10] = 1\n",
    "test[11,11] = 1\n",
    "test[12,11] = 1\n",
    "test[12,10] = 1\n",
    "test[12,12] = 1\n",
    "\n",
    "GL_update(test,75)"
   ]
  },
  {
   "cell_type": "markdown",
   "metadata": {},
   "source": [
    "### 22/02/21 - Investigating Variations"
   ]
  },
  {
   "cell_type": "code",
   "execution_count": null,
   "metadata": {},
   "outputs": [],
   "source": [
    "#random grid generator\n",
    "size = 20\n",
    "random_world = np.round(np.random.rand(size,size))\n",
    "\n",
    "#test to see for interesting configurations\n",
    "GL_update(random_world,100)"
   ]
  },
  {
   "cell_type": "code",
   "execution_count": null,
   "metadata": {},
   "outputs": [],
   "source": [
    "#saved grid as world1\n",
    "world1 = np.array([[1., 1., 1., 1., 0., 1., 1., 0., 0., 0., 1., 0., 0., 1., 0., 1.,0., 1., 0., 0.],\n",
    "       [1., 1., 1., 0., 1., 1., 0., 1., 1., 1., 0., 1., 1., 0., 1., 0.,0., 1., 1., 1.],\n",
    "       [1., 1., 0., 0., 0., 1., 0., 0., 0., 0., 1., 1., 1., 1., 1., 1.,1., 0., 0., 1.],\n",
    "       [0., 0., 1., 1., 0., 1., 1., 0., 0., 0., 1., 0., 1., 1., 1., 1., 0., 0., 1., 1.],\n",
    "       [0., 1., 1., 0., 1., 0., 1., 1., 1., 1., 0., 0., 1., 1., 0., 1., 1., 0., 0., 0.],\n",
    "       [0., 0., 0., 0., 0., 1., 1., 1., 0., 0., 0., 1., 1., 1., 0., 0., 1., 1., 0., 1.],\n",
    "       [0., 0., 0., 0., 1., 0., 0., 0., 1., 1., 1., 1., 0., 1., 1., 0., 0., 1., 1., 1.],\n",
    "       [0., 1., 0., 0., 1., 0., 1., 1., 0., 1., 0., 0., 0., 1., 1., 1., 0., 0., 1., 1.],\n",
    "       [1., 0., 0., 1., 0., 0., 1., 1., 0., 0., 1., 1., 1., 0., 0., 0., 0., 1., 0., 1.],\n",
    "       [0., 1., 1., 0., 0., 0., 0., 1., 1., 0., 1., 0., 1., 1., 0., 0., 0., 1., 1., 0.],\n",
    "       [1., 0., 1., 0., 1., 1., 1., 0., 0., 0., 0., 1., 0., 0., 0., 0., 0., 0., 1., 0.],\n",
    "       [0., 0., 0., 0., 0., 0., 1., 1., 0., 1., 1., 1., 1., 1., 1., 0., 1., 1., 0., 1.],\n",
    "       [1., 0., 0., 0., 0., 1., 0., 0., 0., 0., 0., 0., 0., 0., 1., 1., 1., 1., 0., 1.],\n",
    "       [1., 1., 1., 1., 0., 1., 0., 0., 0., 0., 0., 0., 0., 0., 0., 1., 1., 1., 0., 0.],\n",
    "       [1., 1., 0., 0., 1., 1., 0., 0., 0., 0., 0., 1., 1., 0., 0., 0., 1., 1., 1., 0.],\n",
    "       [1., 1., 0., 0., 0., 0., 0., 1., 1., 1., 0., 0., 0., 0., 1., 1., 1., 1., 1., 1.],\n",
    "       [1., 1., 1., 1., 0., 0., 1., 0., 1., 1., 1., 1., 1., 1., 0., 1., 0., 1., 1., 1.],\n",
    "       [0., 1., 1., 1., 0., 0., 0., 0., 0., 1., 0., 0., 1., 0., 0., 0., 1., 0., 0., 1.],\n",
    "       [1., 0., 1., 1., 0., 0., 0., 0., 1., 0., 0., 1., 1., 1., 1., 1., 0., 1., 0., 0.],\n",
    "       [0., 0., 1., 0., 1., 0., 1., 0., 1., 0., 1., 1., 0., 1., 0., 1., 0., 1., 0., 1.]])\n",
    "\n",
    "GL_update(world1,100)"
   ]
  },
  {
   "cell_type": "markdown",
   "metadata": {},
   "source": [
    "### 02/02/21"
   ]
  },
  {
   "cell_type": "code",
   "execution_count": null,
   "metadata": {},
   "outputs": [],
   "source": []
  },
  {
   "cell_type": "code",
   "execution_count": 50,
   "metadata": {},
   "outputs": [],
   "source": [
    "def fire_update(arr_curr,n_steps,f,p):\n",
    "    \"\"\"Applys the rules of a forest fire to the array and outputs-\n",
    "    an updated array according to the rules.\n",
    "    Inputs:\n",
    "    arr_curr: initial 2d binary array (must be square)\n",
    "    n_steps: number of iterations of updates\n",
    "    Returns:\n",
    "    updated plot of cells at each timestep\n",
    "    \"\"\"\n",
    "    #intialising\n",
    "    n = 0\n",
    "    len = np.size(arr_curr,axis=0)\n",
    "    \n",
    "    #plotting initial array\n",
    "    plt.figure()\n",
    "    plt.imshow(arr_curr,cmap='viridis')\n",
    "    plt.title(f'Step ${n}$')\n",
    "    plt.colorbar()\n",
    "    \n",
    "    #loop for each timestep\n",
    "    while n < n_steps:\n",
    "        \n",
    "        arr_next = np.zeros((len,len))\n",
    "        \n",
    "        #loop over each cell\n",
    "        for i in range(len):\n",
    "            for j in range(len):\n",
    "                \n",
    "                if arr_curr[i,j] == 0:\n",
    "                    if np.random.rand() < (p):\n",
    "                        arr_next[i,j] = 1\n",
    "                \n",
    "                elif arr_curr[i,j] == 1:\n",
    "                    arr_next[i,j] = 0\n",
    "                \n",
    "                elif arr_curr[i,j] == 2:\n",
    "                    if ((np.roll(arr_curr,-1,axis=0)[i,j] == 1) or (np.roll(arr_curr,+1,axis=0)[i,j] == 1) or \n",
    "                         (np.roll(arr_curr,-1,axis=1)[i,j] == 1) or (np.roll(arr_curr,+1,axis=1)[i,j] == 1)):\n",
    "                        arr_next[i,j] = 1\n",
    "                    elif np.random.rand() < (f):\n",
    "                        arr_next[i,j] = 1\n",
    "\n",
    "        #updating array\n",
    "        arr_curr = arr_next\n",
    "        \n",
    "        #counter\n",
    "        n += 1\n",
    "        \n",
    "        #plotting array at timestep n\n",
    "        plt.figure()\n",
    "        plt.imshow(arr_curr,cmap='viridis')\n",
    "        plt.colorbar()\n",
    "\n",
    "        plt.title(f'Step ${n}$')"
   ]
  },
  {
   "cell_type": "code",
   "execution_count": 53,
   "metadata": {},
   "outputs": [
    {
     "data": {
      "image/png": "[encoded data removed]",
      "text/plain": [
       "<Figure size 432x288 with 2 Axes>"
      ]
     },
     "metadata": {
      "needs_background": "light"
     },
     "output_type": "display_data"
    },
    {
     "data": {
      "image/png": "[encoded data removed]",
      "text/plain": [
       "<Figure size 432x288 with 2 Axes>"
      ]
     },
     "metadata": {
      "needs_background": "light"
     },
     "output_type": "display_data"
    },
    {
     "data": {
      "image/png": "[encoded data removed]",
      "text/plain": [
       "<Figure size 432x288 with 2 Axes>"
      ]
     },
     "metadata": {
      "needs_background": "light"
     },
     "output_type": "display_data"
    },
    {
     "data": {
      "image/png": "[encoded data removed]",
      "text/plain": [
       "<Figure size 432x288 with 2 Axes>"
      ]
     },
     "metadata": {
      "needs_background": "light"
     },
     "output_type": "display_data"
    },
    {
     "data": {
      "image/png": "[encoded data removed]",
      "text/plain": [
       "<Figure size 432x288 with 2 Axes>"
      ]
     },
     "metadata": {
      "needs_background": "light"
     },
     "output_type": "display_data"
    },
    {
     "data": {
      "image/png": "[encoded data removed]",
      "text/plain": [
       "<Figure size 432x288 with 2 Axes>"
      ]
     },
     "metadata": {
      "needs_background": "light"
     },
     "output_type": "display_data"
    },
    {
     "data": {
      "image/png": "[encoded data removed]",
      "text/plain": [
       "<Figure size 432x288 with 2 Axes>"
      ]
     },
     "metadata": {
      "needs_background": "light"
     },
     "output_type": "display_data"
    },
    {
     "data": {
      "image/png": "[encoded data removed]",
      "text/plain": [
       "<Figure size 432x288 with 2 Axes>"
      ]
     },
     "metadata": {
      "needs_background": "light"
     },
     "output_type": "display_data"
    },
    {
     "data": {
      "image/png": "[encoded data removed]",
      "text/plain": [
       "<Figure size 432x288 with 2 Axes>"
      ]
     },
     "metadata": {
      "needs_background": "light"
     },
     "output_type": "display_data"
    },
    {
     "data": {
      "image/png": "[encoded data removed]",
      "text/plain": [
       "<Figure size 432x288 with 2 Axes>"
      ]
     },
     "metadata": {
      "needs_background": "light"
     },
     "output_type": "display_data"
    },
    {
     "data": {
      "image/png": "[encoded data removed]",
      "text/plain": [
       "<Figure size 432x288 with 2 Axes>"
      ]
     },
     "metadata": {
      "needs_background": "light"
     },
     "output_type": "display_data"
    }
   ],
   "source": [
    "test_world = np.round(2 * np.random.rand(10,10))\n",
    "f = 0.00025\n",
    "p = 0.05\n",
    "fire_update(test_world,10,f,p)"
   ]
  },
  {
   "cell_type": "code",
   "execution_count": 55,
   "metadata": {},
   "outputs": [
    {
     "data": {
      "text/plain": [
       "<matplotlib.colorbar.Colorbar at 0x7ff3997aed30>"
      ]
     },
     "execution_count": 55,
     "metadata": {},
     "output_type": "execute_result"
    },
    {
     "data": {
      "image/png": "[encoded data removed]",
      "text/plain": [
       "<Figure size 432x288 with 2 Axes>"
      ]
     },
     "metadata": {
      "needs_background": "light"
     },
     "output_type": "display_data"
    }
   ],
   "source": [
    "from matplotlib.colors import LinearSegmentedColormap\n",
    "\n",
    "colors = [(0.23, 0.12, 0.04), (0.96, 0.54, 0.04), (0.34, 0.54, 0.21)] \n",
    "cmap_name = 'forest'\n",
    "forest = LinearSegmentedColormap.from_list(cmap_name, colors, N=3)\n",
    "\n",
    "hi = np.reshape(np.array([0,1,2,2,1,0]),(2,3))\n",
    "\n",
    "plt.imshow(hi,cmap=forest,vmin=0, vmax=2)\n",
    "plt.colorbar()"
   ]
  },
  {
   "cell_type": "code",
   "execution_count": null,
   "metadata": {},
   "outputs": [],
   "source": []
  }
 ],
 "metadata": {
  "kernelspec": {
   "display_name": "Python 3",
   "language": "python",
   "name": "python3"
  },
  "language_info": {
   "codemirror_mode": {
    "name": "ipython",
    "version": 3
   },
   "file_extension": ".py",
   "mimetype": "text/x-python",
   "name": "python",
   "nbconvert_exporter": "python",
   "pygments_lexer": "ipython3",
   "version": "3.8.5"
  }
 },
 "nbformat": 4,
 "nbformat_minor": 4
}
