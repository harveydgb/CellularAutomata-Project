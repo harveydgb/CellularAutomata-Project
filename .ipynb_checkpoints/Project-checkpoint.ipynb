{
 "cells": [
  {
   "cell_type": "markdown",
   "metadata": {},
   "source": [
    "# Automata project"
   ]
  },
  {
   "cell_type": "code",
   "execution_count": 188,
   "metadata": {},
   "outputs": [],
   "source": [
    "import numpy as np\n",
    "import matplotlib.pyplot as plt"
   ]
  },
  {
   "cell_type": "markdown",
   "metadata": {},
   "source": [
    "### 10/02/21"
   ]
  },
  {
   "cell_type": "code",
   "execution_count": 189,
   "metadata": {},
   "outputs": [],
   "source": [
    "def update(arr):\n",
    "    \"\"\"Updates the values in the array according to the set of rules\n",
    "    Inputs:\n",
    "    arr: input array\n",
    "    Returns:\n",
    "    arr_updated\n",
    "    \"\"\"\n",
    "    N = np.size(arr)\n",
    "    arr_updated = np.copy(arr)\n",
    "    \n",
    "    #looping over all cells in arr\n",
    "    for i in range(N):\n",
    "        \n",
    "        #sum of surrounding\n",
    "        sum = np.roll(arr,1)[i] + arr[i] + np.roll(arr,-1)[i]\n",
    "        \n",
    "        #rules\n",
    "        if sum == 3:\n",
    "            val = 0\n",
    "        elif sum == 2:\n",
    "            val = 1\n",
    "        elif sum == 1:\n",
    "            val = 0\n",
    "        else:\n",
    "            val = 0\n",
    "        \n",
    "        arr_updated[i] = val\n",
    "    \n",
    "    return arr_updated"
   ]
  },
  {
   "cell_type": "code",
   "execution_count": 190,
   "metadata": {},
   "outputs": [
    {
     "name": "stdout",
     "output_type": "stream",
     "text": [
      "Before [0 1 1 0 1 1 1 0 0 1]\n",
      "After  [1 1 1 1 1 0 1 0 0 0]\n"
     ]
    }
   ],
   "source": [
    "#single array testing\n",
    "arr = np.array([0,1,1,0,1,1,1,0,0,1])\n",
    "\n",
    "print('Before',arr)\n",
    "print('After ',update(arr))"
   ]
  },
  {
   "cell_type": "markdown",
   "metadata": {},
   "source": [
    "### 13/02/21"
   ]
  },
  {
   "cell_type": "code",
   "execution_count": 191,
   "metadata": {},
   "outputs": [],
   "source": [
    "def update1(arr,rules):\n",
    "    \"\"\"Updates the values in the array according to the set of inputted rules\n",
    "    Inputs:\n",
    "    arr: input array\n",
    "    rules: defines rules\n",
    "    Returns:\n",
    "    arr_updated\n",
    "    \"\"\"\n",
    "    N = np.size(arr)\n",
    "    arr_updated = np.copy(arr)\n",
    "    \n",
    "    #looping over all cells in arr\n",
    "    for i in range(N):\n",
    "        \n",
    "        #sum of surrounding\n",
    "        sum = np.roll(arr,1)[i] + arr[i] + np.roll(arr,-1)[i]\n",
    "        \n",
    "        #rules\n",
    "        if sum == 3:\n",
    "            val = rules[3]\n",
    "        elif sum == 2:\n",
    "            val = rules[2]\n",
    "        elif sum == 1:\n",
    "            val = rules[1]\n",
    "        else:\n",
    "            val = rules[0]\n",
    "        \n",
    "        arr_updated[i] = val\n",
    "    \n",
    "    return arr_updated"
   ]
  },
  {
   "cell_type": "code",
   "execution_count": 195,
   "metadata": {
    "scrolled": true
   },
   "outputs": [
    {
     "name": "stdout",
     "output_type": "stream",
     "text": [
      "[0 0 0]\n",
      "[0 0 0]\n",
      "[1 1 1]\n",
      "[0 0 0]\n",
      "[0 0 0]\n",
      "[1 1 1]\n",
      "[0 0 0]\n",
      "[0 0 0]\n",
      "[1 1 1]\n",
      "[1 1 1]\n",
      "[0 0 0]\n",
      "[1 1 1]\n",
      "[1 1 1]\n",
      "[1 1 1]\n",
      "[0 0 0]\n",
      "[1 1 1]\n"
     ]
    }
   ],
   "source": [
    "#sets of rules\n",
    "rule1 = np.array([0,0,0,0])\n",
    "rule2 = np.array([1,0,0,0])\n",
    "rule3 = np.array([0,1,0,0])\n",
    "rule4 = np.array([0,0,1,0])\n",
    "rule5 = np.array([0,0,0,1])\n",
    "rule6 = np.array([1,1,0,0])\n",
    "rule7 = np.array([1,0,1,0])\n",
    "rule8 = np.array([1,0,0,1])\n",
    "rule9 = np.array([0,1,1,0])\n",
    "rule10 = np.array([0,1,0,1])\n",
    "rule11 = np.array([0,0,1,1])\n",
    "rule12 = np.array([1,1,1,0])\n",
    "rule13 = np.array([1,1,0,1])\n",
    "rule14 = np.array([0,1,1,1])\n",
    "rule15 = np.array([1,0,1,1])\n",
    "rule16 = np.array([1,1,1,1])\n",
    "\n",
    "\n",
    "\n",
    "#testing over all possibilities\n",
    "arr1 = np.array([0,0,1])\n",
    "\n",
    "\n",
    "#printing\n",
    "print(update1(arr1,rule1))\n",
    "print(update1(arr1,rule2))\n",
    "print(update1(arr1,rule3))\n",
    "print(update1(arr1,rule4))\n",
    "print(update1(arr1,rule5))\n",
    "print(update1(arr1,rule6))\n",
    "print(update1(arr1,rule7))\n",
    "print(update1(arr1,rule8))\n",
    "print(update1(arr1,rule9))\n",
    "print(update1(arr1,rule10))\n",
    "print(update1(arr1,rule11))\n",
    "print(update1(arr1,rule12))\n",
    "print(update1(arr1,rule13))\n",
    "print(update1(arr1,rule14))\n",
    "print(update1(arr1,rule15))\n",
    "print(update1(arr1,rule16))"
   ]
  },
  {
   "cell_type": "markdown",
   "metadata": {},
   "source": [
    "For all values in the cells the 16 rules always give 8 outputs of array [1,1,1] and 8 outputs of array [0,0,0]"
   ]
  },
  {
   "cell_type": "markdown",
   "metadata": {},
   "source": [
    "### 17/02/21\n",
    "\n",
    "Function now steps in time for n steps and will remember the layout of the step n-1 which will affect the step n+1. If the previous cell had a total of 3 then it will set to 1 ad long as the total>0."
   ]
  },
  {
   "cell_type": "code",
   "execution_count": 496,
   "metadata": {},
   "outputs": [],
   "source": [
    "def update2(arr,n_steps):\n",
    "    \"\"\"Updates the values in the array according to the set of rules\n",
    "    Inputs:\n",
    "    arr: input array\n",
    "    n_steps: number of time steps\n",
    "    Returns:\n",
    "    arr_updated\n",
    "    \"\"\"\n",
    "    #initialising\n",
    "    len = np.size(arr)\n",
    "    arr_prev = np.copy(arr)\n",
    "    arr_curr = np.copy(arr)\n",
    "    arr_next = np.copy(arr)\n",
    "    n = 0\n",
    "    \n",
    "    print('Step',n,arr_curr)\n",
    "    \n",
    "    #looping for n steps\n",
    "    while n < n_steps:\n",
    "        \n",
    "        \n",
    "        #looping over all cells in array\n",
    "        for i in range(len):\n",
    "\n",
    "            #sum of surrounding\n",
    "            sum_curr = np.roll(arr_curr,1)[i] + arr_curr[i] + np.roll(arr_curr,-1)[i]\n",
    "            sum_prev = np.roll(arr_prev,1)[i] + arr_prev[i] + np.roll(arr_prev,-1)[i]\n",
    "\n",
    "            #rules\n",
    "            if n > 0 and sum_prev == 3 and sum_curr>0:\n",
    "                val = 1\n",
    "            elif sum_curr == 3:\n",
    "                val = 0\n",
    "            elif sum_curr == 2:\n",
    "                val = 1\n",
    "            elif sum_curr == 1:\n",
    "                val = 0\n",
    "            else:\n",
    "                val = 1\n",
    "\n",
    "            arr_next[i] = val\n",
    "            \n",
    "        \n",
    "        arr_prev = arr_curr\n",
    "        arr_curr = np.copy(arr_next)\n",
    "        print('Step',n+1,arr_curr)\n",
    "        \n",
    "        #counter    \n",
    "        n += 1\n",
    "    \n",
    "    return arr_curr"
   ]
  },
  {
   "cell_type": "code",
   "execution_count": 506,
   "metadata": {},
   "outputs": [
    {
     "name": "stdout",
     "output_type": "stream",
     "text": [
      "Step 0 [1 1 1 0 1 1 1 0]\n",
      "Step 1 [1 0 1 1 1 0 1 1]\n",
      "Step 2 [1 1 1 0 1 1 1 0]\n",
      "Step 3 [1 0 1 1 1 0 1 1]\n"
     ]
    },
    {
     "data": {
      "text/plain": [
       "array([1, 0, 1, 1, 1, 0, 1, 1])"
      ]
     },
     "execution_count": 506,
     "metadata": {},
     "output_type": "execute_result"
    }
   ],
   "source": [
    "#2 steps for repetition\n",
    "arr = np.array((1,1,1,0,1,1,1,0))\n",
    "update2(arr,3)"
   ]
  },
  {
   "cell_type": "code",
   "execution_count": 503,
   "metadata": {},
   "outputs": [
    {
     "name": "stdout",
     "output_type": "stream",
     "text": [
      "Step 0 [1 1 0 1 1 0 1 1 0]\n",
      "Step 1 [1 1 1 1 1 1 1 1 1]\n",
      "Step 2 [0 0 0 0 0 0 0 0 0]\n",
      "Step 3 [1 1 1 1 1 1 1 1 1]\n"
     ]
    },
    {
     "data": {
      "text/plain": [
       "array([1, 1, 1, 1, 1, 1, 1, 1, 1])"
      ]
     },
     "execution_count": 503,
     "metadata": {},
     "output_type": "execute_result"
    }
   ],
   "source": [
    "#very regular\n",
    "arr = np.array((1,1,0,1,1,0,1,1,0))\n",
    "update2(arr,3)"
   ]
  },
  {
   "cell_type": "code",
   "execution_count": 511,
   "metadata": {},
   "outputs": [
    {
     "name": "stdout",
     "output_type": "stream",
     "text": [
      "Step 0 [0 1 0 0 0 0 1 1 0 0]\n",
      "Step 1 [0 0 0 1 1 0 1 1 0 1]\n",
      "Step 2 [0 1 0 1 1 1 1 1 1 0]\n",
      "Step 3 [0 0 1 1 0 0 0 0 1 0]\n",
      "Step 4 [1 0 1 1 1 1 1 1 0 0]\n",
      "Step 5 [0 1 1 0 0 0 0 1 0 0]\n",
      "Step 6 [0 1 1 1 1 1 1 0 0 1]\n",
      "Step 7 [1 1 0 0 0 0 1 0 0 0]\n",
      "Step 8 [1 1 1 1 1 1 0 0 1 0]\n",
      "Step 9 [1 0 0 0 0 1 0 0 0 1]\n",
      "Step 10 [1 1 1 1 1 0 0 1 0 1]\n"
     ]
    },
    {
     "data": {
      "text/plain": [
       "array([1, 1, 1, 1, 1, 0, 0, 1, 0, 1])"
      ]
     },
     "execution_count": 511,
     "metadata": {},
     "output_type": "execute_result"
    }
   ],
   "source": [
    "#random generation\n",
    "arr = np.array((0,1,0,0,0,0,1,1,0,0))\n",
    "update2(arr,10)"
   ]
  },
  {
   "cell_type": "code",
   "execution_count": 510,
   "metadata": {},
   "outputs": [
    {
     "name": "stdout",
     "output_type": "stream",
     "text": [
      "Step 0 [0 1 0 1 1 1 1 1 0]\n",
      "Step 1 [0 0 1 1 0 0 0 1 0]\n",
      "Step 2 [1 0 1 1 1 1 1 0 0]\n",
      "Step 3 [0 1 1 0 0 0 1 0 0]\n",
      "Step 4 [0 1 1 1 1 1 0 0 1]\n",
      "Step 5 [1 1 0 0 0 1 0 0 0]\n",
      "Step 6 [1 1 1 1 1 0 0 1 0]\n",
      "Step 7 [1 0 0 0 1 0 0 0 1]\n",
      "Step 8 [1 1 1 1 0 0 1 0 1]\n",
      "Step 9 [0 0 0 1 0 0 0 1 1]\n",
      "Step 10 [1 1 1 0 0 1 0 1 1]\n"
     ]
    },
    {
     "data": {
      "text/plain": [
       "array([1, 1, 1, 0, 0, 1, 0, 1, 1])"
      ]
     },
     "execution_count": 510,
     "metadata": {},
     "output_type": "execute_result"
    }
   ],
   "source": [
    "#random generation\n",
    "arr = np.array((0, 1, 0, 1, 1, 1, 1, 1, 0))\n",
    "update2(arr,10)"
   ]
  },
  {
   "cell_type": "markdown",
   "metadata": {},
   "source": [
    "### 20/02/21 - Game of Life"
   ]
  },
  {
   "cell_type": "code",
   "execution_count": 701,
   "metadata": {},
   "outputs": [],
   "source": [
    "def GL_update(arr_curr,n_steps):\n",
    "    \"\"\"Applys the rules of the Game of Life to the array and outputs-\n",
    "    updated array at each step.\n",
    "    Inputs:\n",
    "    arr_curr: initial 2d binary array (must be square)\n",
    "    n_steps: number of iterations\n",
    "    Returns:\n",
    "    updated array at each timestep\n",
    "    \"\"\"\n",
    "    #intialising\n",
    "    n = 0\n",
    "    len = np.size(arr_curr,axis=0)\n",
    "    \n",
    "    print(arr_curr,'Step',n,'\\n')\n",
    "    \n",
    "    #loop for each timestep\n",
    "    while n < n_steps:\n",
    "        \n",
    "        arr_next = np.zeros((len,len))\n",
    "        \n",
    "        #loop over each cell\n",
    "        for i in range(len):\n",
    "            for j in range(len):\n",
    "                \n",
    "                #summing no. of neighbours\n",
    "                neighbours = (np.roll(arr_curr,-1,axis=0)[i,j] + np.roll(arr_curr,+1,axis=0)[i,j] + \\\n",
    "                             np.roll(arr_curr,-1,axis=1)[i,j] + np.roll(arr_curr,+1,axis=1)[i,j] + \\\n",
    "                             np.roll((np.roll(arr_curr,1,axis=0)),1,axis=1)[i,j] +   \\\n",
    "                             np.roll((np.roll(arr_curr,-1,axis=0)),1,axis=1)[i,j] +  \\\n",
    "                             np.roll((np.roll(arr_curr,-1,axis=0)),-1,axis=1)[i,j] + \\\n",
    "                             np.roll((np.roll(arr_curr,1,axis=0)),-1,axis=1)[i,j])\n",
    "                \n",
    "                #applying rules\n",
    "                if (arr_curr[i,j] == 0) and (neighbours == 3):\n",
    "                    arr_next[i,j] = 1\n",
    "                elif (arr_curr[i,j] == 1) and (neighbours == 2 or neighbours == 3):\n",
    "                    arr_next[i,j] = 1\n",
    "                else:\n",
    "                    arr_next[i,j] = 0\n",
    "\n",
    "        #updating array\n",
    "        arr_curr = arr_next\n",
    "        \n",
    "        #counter\n",
    "        n += 1\n",
    "        \n",
    "        #outputting array at timestep n\n",
    "        print(arr_curr,'Step',n,'\\n')"
   ]
  },
  {
   "cell_type": "code",
   "execution_count": 702,
   "metadata": {},
   "outputs": [
    {
     "name": "stdout",
     "output_type": "stream",
     "text": [
      "[[0. 0. 0. 0. 0. 0. 0. 0. 0. 0.]\n",
      " [0. 0. 0. 0. 0. 0. 0. 0. 0. 0.]\n",
      " [0. 0. 0. 0. 0. 0. 0. 0. 0. 0.]\n",
      " [0. 0. 0. 0. 0. 0. 0. 0. 0. 0.]\n",
      " [0. 0. 0. 0. 1. 1. 1. 0. 0. 0.]\n",
      " [0. 0. 0. 0. 1. 1. 1. 0. 0. 0.]\n",
      " [0. 0. 0. 0. 1. 1. 1. 0. 0. 0.]\n",
      " [0. 0. 0. 0. 0. 0. 0. 0. 0. 0.]\n",
      " [0. 0. 0. 0. 0. 0. 0. 0. 0. 0.]\n",
      " [0. 0. 0. 0. 0. 0. 0. 0. 0. 0.]] Step 0 \n",
      "\n",
      "[[0. 0. 0. 0. 0. 0. 0. 0. 0. 0.]\n",
      " [0. 0. 0. 0. 0. 0. 0. 0. 0. 0.]\n",
      " [0. 0. 0. 0. 0. 0. 0. 0. 0. 0.]\n",
      " [0. 0. 0. 0. 0. 1. 0. 0. 0. 0.]\n",
      " [0. 0. 0. 0. 1. 0. 1. 0. 0. 0.]\n",
      " [0. 0. 0. 1. 0. 0. 0. 1. 0. 0.]\n",
      " [0. 0. 0. 0. 1. 0. 1. 0. 0. 0.]\n",
      " [0. 0. 0. 0. 0. 1. 0. 0. 0. 0.]\n",
      " [0. 0. 0. 0. 0. 0. 0. 0. 0. 0.]\n",
      " [0. 0. 0. 0. 0. 0. 0. 0. 0. 0.]] Step 1 \n",
      "\n",
      "[[0. 0. 0. 0. 0. 0. 0. 0. 0. 0.]\n",
      " [0. 0. 0. 0. 0. 0. 0. 0. 0. 0.]\n",
      " [0. 0. 0. 0. 0. 0. 0. 0. 0. 0.]\n",
      " [0. 0. 0. 0. 0. 1. 0. 0. 0. 0.]\n",
      " [0. 0. 0. 0. 1. 1. 1. 0. 0. 0.]\n",
      " [0. 0. 0. 1. 1. 0. 1. 1. 0. 0.]\n",
      " [0. 0. 0. 0. 1. 1. 1. 0. 0. 0.]\n",
      " [0. 0. 0. 0. 0. 1. 0. 0. 0. 0.]\n",
      " [0. 0. 0. 0. 0. 0. 0. 0. 0. 0.]\n",
      " [0. 0. 0. 0. 0. 0. 0. 0. 0. 0.]] Step 2 \n",
      "\n"
     ]
    }
   ],
   "source": [
    "test = np.zeros((10,10))\n",
    "for i in range(3):\n",
    "    for j in range(3):\n",
    "        test[4+i,4+j] = 1\n",
    "\n",
    "GL_update(test,2)"
   ]
  },
  {
   "cell_type": "code",
   "execution_count": 640,
   "metadata": {},
   "outputs": [
    {
     "name": "stdout",
     "output_type": "stream",
     "text": [
      "[[ 0.  1.  2.  3.  4.]\n",
      " [ 5.  6.  7.  8.  9.]\n",
      " [10. 11. 12. 13. 14.]\n",
      " [15. 16. 17. 18. 19.]\n",
      " [20. 21. 22. 23. 24.]]\n",
      "17.0\n",
      "7.0\n",
      "13.0\n",
      "11.0\n",
      "6.0\n",
      "16.0\n",
      "18.0\n",
      "8.0\n",
      "12.0\n"
     ]
    }
   ],
   "source": [
    "test2 = np.zeros((5,5))\n",
    "for i in range(5):\n",
    "    for j in range(5):\n",
    "        test2[i,j] = i + (i*4) + j\n",
    "\n",
    "print(test2)\n",
    "\n",
    "\n",
    "print(np.roll(test2,-1,axis=0)[2,2])\n",
    "print(np.roll(test2,+1,axis=0)[2,2])\n",
    "print(np.roll(test2,-1,axis=1)[2,2])\n",
    "print(np.roll(test2,+1,axis=1)[2,2])\n",
    "print(np.roll((np.roll(test2,1,axis=0)),1,axis=1)[2,2])\n",
    "print(np.roll((np.roll(test2,-1,axis=0)),1,axis=1)[2,2])\n",
    "print(np.roll((np.roll(test2,-1,axis=0)),-1,axis=1)[2,2])\n",
    "print(np.roll((np.roll(test2,1,axis=0)),-1,axis=1)[2,2])\n",
    "print(test2[2,2])"
   ]
  },
  {
   "cell_type": "code",
   "execution_count": 523,
   "metadata": {},
   "outputs": [
    {
     "name": "stdout",
     "output_type": "stream",
     "text": [
      "[[1. 0. 1. 1. 1. 0. 0. 0. 1. 0.]\n",
      " [1. 0. 0. 0. 0. 1. 0. 0. 0. 1.]\n",
      " [1. 1. 1. 1. 0. 0. 0. 1. 1. 0.]\n",
      " [0. 0. 0. 1. 0. 1. 0. 0. 0. 0.]\n",
      " [0. 1. 1. 0. 0. 0. 0. 1. 0. 1.]\n",
      " [1. 1. 1. 1. 1. 1. 0. 1. 1. 1.]\n",
      " [1. 1. 1. 0. 1. 1. 0. 1. 0. 1.]\n",
      " [0. 1. 1. 0. 1. 0. 1. 1. 1. 1.]\n",
      " [1. 0. 0. 1. 0. 0. 1. 0. 0. 0.]\n",
      " [0. 1. 0. 0. 0. 0. 1. 1. 1. 0.]]\n"
     ]
    }
   ],
   "source": [
    "#creating intial grid\n",
    "size = 10\n",
    "initial_world = np.round(np.random.rand(size,size))\n",
    "print(initial_world)"
   ]
  },
  {
   "cell_type": "code",
   "execution_count": null,
   "metadata": {},
   "outputs": [],
   "source": []
  }
 ],
 "metadata": {
  "kernelspec": {
   "display_name": "Python 3",
   "language": "python",
   "name": "python3"
  },
  "language_info": {
   "codemirror_mode": {
    "name": "ipython",
    "version": 3
   },
   "file_extension": ".py",
   "mimetype": "text/x-python",
   "name": "python",
   "nbconvert_exporter": "python",
   "pygments_lexer": "ipython3",
   "version": "3.8.5"
  }
 },
 "nbformat": 4,
 "nbformat_minor": 4
}
